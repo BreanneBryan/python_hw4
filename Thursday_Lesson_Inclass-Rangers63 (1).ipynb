{
 "cells": [
  {
   "cell_type": "markdown",
   "metadata": {},
   "source": [
    "# Object-Oriented-Programming (OOP)"
   ]
  },
  {
   "cell_type": "markdown",
   "metadata": {},
   "source": [
    "## Tasks Today:\n",
    "\n",
    "   \n",
    "\n",
    "1) <b>Creating a Class (Initializing/Declaring)</b> <br>\n",
    "2) <b>Using a Class (Instantiating)</b> <br>\n",
    " &nbsp;&nbsp;&nbsp;&nbsp; a) Creating One Instance <br>\n",
    " &nbsp;&nbsp;&nbsp;&nbsp; b) Creating Multiple Instances <br>\n",
    " &nbsp;&nbsp;&nbsp;&nbsp; c) In-Class Exercise #1 - Create a Class 'Car' and instantiate three different makes of cars <br>\n",
    "3) <b>The \\__init\\__() Method</b> <br>\n",
    " &nbsp;&nbsp;&nbsp;&nbsp; a) The 'self' Attribute <br>\n",
    "4) <b>Class Attributes</b> <br>\n",
    " &nbsp;&nbsp;&nbsp;&nbsp; a) Initializing Attributes <br>\n",
    " &nbsp;&nbsp;&nbsp;&nbsp; b) Setting an Attribute Outside of the \\__init\\__() Method <br>\n",
    " &nbsp;&nbsp;&nbsp;&nbsp; c) Setting Defaults for Attributes <br>\n",
    " &nbsp;&nbsp;&nbsp;&nbsp; d) Accessing Class Attributes <br>\n",
    " &nbsp;&nbsp;&nbsp;&nbsp; e) Changing Class Attributes <br>\n",
    " &nbsp;&nbsp;&nbsp;&nbsp; f) In-Class Exercise #2 - Add a color and wheels attribute to your 'Car' class <br>\n",
    "5) <b>Class Methods</b> <br>\n",
    " &nbsp;&nbsp;&nbsp;&nbsp; a) Creating <br>\n",
    " &nbsp;&nbsp;&nbsp;&nbsp; b) Calling <br>\n",
    " &nbsp;&nbsp;&nbsp;&nbsp; c) Modifying an Attribute's Value Through a Method <br>\n",
    " &nbsp;&nbsp;&nbsp;&nbsp; d) Incrementing an Attribute's Value Through a Method <br>\n",
    " &nbsp;&nbsp;&nbsp;&nbsp; e) In-Class Exercise #3 - Add a method that prints the cars color and wheel number, then call them <br>\n",
    "6) <b>Inheritance</b> <br>\n",
    " &nbsp;&nbsp;&nbsp;&nbsp; a) Syntax for Inheriting from a Parent Class <br>\n",
    " &nbsp;&nbsp;&nbsp;&nbsp; b) The \\__init\\__() Method for a Child Class (super()) <br>\n",
    " &nbsp;&nbsp;&nbsp;&nbsp; c) Defining Attributes and Methods for the Child Class <br>\n",
    " &nbsp;&nbsp;&nbsp;&nbsp; d) Method Overriding <br>\n",
    " &nbsp;&nbsp;&nbsp;&nbsp; e) In-Class Exercise #4 - Create a class 'Ford' that inherits from 'Car' class and initialize it as a Blue Ford Explorer with 4 wheels using the super() method <br>\n",
    "7) <b>Classes as Attributes</b> <br>\n",
    "8) <b>Exercises</b> <br>\n",
    " &nbsp;&nbsp;&nbsp;&nbsp; a) Exercise #1 - Turn the shopping cart program from yesterday into an object-oriented program <br>"
   ]
  },
  {
   "cell_type": "markdown",
   "metadata": {},
   "source": [
    "## Creating a Class (Initializing/Declaring)\n",
    "<p>When creating a class, function, or even a variable you are initializing that object. Initializing and Declaring occur at the same time in Python, whereas in lower level languages you have to declare an object before initializing it. This is the first step in the process of using a class.</p>"
   ]
  },
  {
   "cell_type": "code",
   "execution_count": 23,
   "metadata": {},
   "outputs": [],
   "source": [
    "class Car(): #first letter is capitialized \n",
    "    wheels = 4\n",
    "    color = 'blue'\n",
    "    windshield_wipers='wee woo wee woo'"
   ]
  },
  {
   "cell_type": "markdown",
   "metadata": {},
   "source": [
    "## Using a Class (Instantiating)\n",
    "<p>The process of creating a class is called <i>Instantiating</i>. Each time you create a variable of that type of class, it is referred to as an <i>Instance</i> of that class. This is the second step in the process of using a class.</p>"
   ]
  },
  {
   "cell_type": "markdown",
   "metadata": {},
   "source": [
    "##### Creating One Instance"
   ]
  },
  {
   "cell_type": "code",
   "execution_count": 24,
   "metadata": {},
   "outputs": [
    {
     "name": "stdout",
     "output_type": "stream",
     "text": [
      "blue\n",
      "wee woo wee woo\n"
     ]
    }
   ],
   "source": [
    "ford = Car()\n",
    "#accessing information of the class\n",
    "print(ford.color)\n",
    "print(ford.windshield_wipers) "
   ]
  },
  {
   "cell_type": "markdown",
   "metadata": {},
   "source": [
    "##### Creating Multiple Instances"
   ]
  },
  {
   "cell_type": "code",
   "execution_count": 25,
   "metadata": {},
   "outputs": [
    {
     "name": "stdout",
     "output_type": "stream",
     "text": [
      "<class 'str'>\n"
     ]
    }
   ],
   "source": [
    "chevrolet= Car()\n",
    "honda=Car()\n",
    "porshe= Car()\n",
    "\n",
    "print(type(porshe.color))"
   ]
  },
  {
   "cell_type": "markdown",
   "metadata": {},
   "source": [
    "##### In-Class Exercise #1 - Create a Class 'Car' and Instantiate three different makes of cars"
   ]
  },
  {
   "cell_type": "code",
   "execution_count": 7,
   "metadata": {},
   "outputs": [
    {
     "name": "stdout",
     "output_type": "stream",
     "text": [
      "soft top\n",
      "yes\n"
     ]
    }
   ],
   "source": [
    "class Car():\n",
    "    door=2\n",
    "    color='orange'\n",
    "    wheels=4\n",
    "    four_wheel_drive='yes'\n",
    "    sunroof='soft top'\n",
    "#     def headlights(self):\n",
    "#         print(\"Turn them on for safety, or do the safety dance\") #error in code somewhere, maybe needs self\n",
    "    \n",
    "print(Car.sunroof)\n",
    "jeep_wrangler=Car()\n",
    "kia=Car()\n",
    "print(jeep_wrangler.four_wheel_drive)\n",
    "\n"
   ]
  },
  {
   "cell_type": "markdown",
   "metadata": {},
   "source": [
    "## The \\__init\\__() Method <br>\n",
    "<p>This method is used in almost every created class, and called only once upon the creation of the class instance. This method will initialize all variables needed for the object.</p>"
   ]
  },
  {
   "cell_type": "code",
   "execution_count": 21,
   "metadata": {},
   "outputs": [
    {
     "name": "stdout",
     "output_type": "stream",
     "text": [
      "black\n",
      "6\n"
     ]
    }
   ],
   "source": [
    "#creating classes->instantiating them to be objects->methods is a function inside of the class\n",
    "class Car():\n",
    "    engine='4.7L' #global variable\n",
    "    def __init__(self, color, wheels):  #there are two '_' on both sides\n",
    "        self.color=color\n",
    "        self.wheels=wheels\n",
    "mazda=Car('black',4)\n",
    "subaru=Car('blue', 6)\n",
    "print(mazda.color)\n",
    "print(subaru.wheels)"
   ]
  },
  {
   "cell_type": "markdown",
   "metadata": {},
   "source": [
    "##### The 'self' Attribute <br>\n",
    "<p>This attribute is required to keep track of specific instance's attributes. Without the self attribute, the program would not know how to reference or keep track of an instance's attributes.</p>"
   ]
  },
  {
   "cell_type": "code",
   "execution_count": 62,
   "metadata": {},
   "outputs": [
    {
     "data": {
      "text/plain": [
       "'rock on, climber!'"
      ]
     },
     "execution_count": 62,
     "metadata": {},
     "output_type": "execute_result"
    }
   ],
   "source": [
    "#self is a magic word! \n",
    "# see above\n",
    "class House():\n",
    "    def __init__(self, wall, dishes):\n",
    "        self.wall=wall\n",
    "        self.dishes=dishes\n",
    "    def washDishes(self):\n",
    "        if self.dishes.lower()=='dirty':\n",
    "            return 'Clean'\n",
    "    def rockClimbingWall(self, wall): #if you remove all the walls in the code besides this def and\n",
    "#  brandon_house.rockClimbingWall('yes') the output will still be 'rock on, climber!'\n",
    "        \n",
    "        if self.wall.lower()=='yes':\n",
    "            return 'rock on, climber!'\n",
    "        else:\n",
    "            return 'why on earth would you not want a rock climbing wall in your yard'\n",
    "brandon_house=House('yes','dirty')\n",
    "brandon_house.washDishes()\n",
    "brandon_house.rockClimbingWall('yes')"
   ]
  },
  {
   "cell_type": "markdown",
   "metadata": {},
   "source": [
    "## Class Attributes <br>\n",
    "<p>While variables are inside of a class, they are referred to as attributes and not variables. When someone says 'attribute' you know they're speaking about a class. Attributes can be initialized through the init method, or outside of it.</p>"
   ]
  },
  {
   "cell_type": "markdown",
   "metadata": {},
   "source": [
    "##### Initializing Attributes"
   ]
  },
  {
   "cell_type": "code",
   "execution_count": 10,
   "metadata": {},
   "outputs": [],
   "source": [
    "# see above if you see 'attributes' they are talking about a class\n",
    "class Toy():\n",
    "    kind='car' #this is a constant\n",
    "    \n",
    "    def __init__(self, rooftop, horn, wheels):\n",
    "        self.rooftop= rooftop #these are attributes\n",
    "        self.horn=horn\n",
    "        self.wheels=wheels\n",
    "tonka_truck=Toy(1, 1, 4) #1 rooftop, 1 horn, 4 wheels\n",
    "hotwheels_car=Toy(2, 3, 8) #2 rooftops, 3 horsns, 8 wheels\n"
   ]
  },
  {
   "cell_type": "markdown",
   "metadata": {},
   "source": [
    "##### Accessing Class Attributes"
   ]
  },
  {
   "cell_type": "code",
   "execution_count": 12,
   "metadata": {
    "scrolled": true
   },
   "outputs": [
    {
     "data": {
      "text/plain": [
       "8"
      ]
     },
     "execution_count": 12,
     "metadata": {},
     "output_type": "execute_result"
    }
   ],
   "source": [
    "# See Above\n",
    "tonka_truck.rooftop\n",
    "hotwheels_car.wheels"
   ]
  },
  {
   "cell_type": "markdown",
   "metadata": {},
   "source": [
    "##### Setting Defaults for Attributes"
   ]
  },
  {
   "cell_type": "code",
   "execution_count": 15,
   "metadata": {},
   "outputs": [
    {
     "data": {
      "text/plain": [
       "'blue'"
      ]
     },
     "execution_count": 15,
     "metadata": {},
     "output_type": "execute_result"
    }
   ],
   "source": [
    "class Car():\n",
    "    engine=\"4.7L\" #content\n",
    "    \n",
    "    def __init__(self, wheels):\n",
    "        self.wheels= wheels\n",
    "        self.color='blue'\n",
    "honda= Car(4) \n",
    "honda.color\n",
    "        "
   ]
  },
  {
   "cell_type": "markdown",
   "metadata": {},
   "source": [
    "##### Changing Class Attributes <br>\n",
    "<p>Keep in mind there are global class attributes and then there are attributes only available to each class instance which won't effect other classes.</p>"
   ]
  },
  {
   "cell_type": "code",
   "execution_count": 18,
   "metadata": {},
   "outputs": [
    {
     "name": "stdout",
     "output_type": "stream",
     "text": [
      "Before changes: blue\n",
      "\n",
      "After change: White\n",
      "blue\n"
     ]
    }
   ],
   "source": [
    "jeep=Car(8)\n",
    "print(f'Before changes: {jeep.color}')\n",
    "jeep.color='White'\n",
    "print(f'\\nAfter change: {jeep.color}')\n",
    "print(honda.color)"
   ]
  },
  {
   "cell_type": "code",
   "execution_count": 69,
   "metadata": {},
   "outputs": [
    {
     "name": "stdout",
     "output_type": "stream",
     "text": [
      "2\n",
      "leather\n"
     ]
    }
   ],
   "source": [
    "class Car():\n",
    "    doors=2\n",
    "    seats='leather'\n",
    "    \n",
    "    def __init__(self, doors):\n",
    "        self.doors= doors\n",
    "        \n",
    "print(Car.doors)\n",
    "print(Car.seats)"
   ]
  },
  {
   "cell_type": "markdown",
   "metadata": {},
   "source": [
    "##### In-Class Exercise #2 - Add a doors and seats attribute to your 'Car' class then print out two different instances with different doors and seats"
   ]
  },
  {
   "cell_type": "code",
   "execution_count": 76,
   "metadata": {},
   "outputs": [
    {
     "name": "stdout",
     "output_type": "stream",
     "text": [
      "leather\n",
      "4\n",
      "2\n",
      "cloth\n",
      "Toyota seats: 2 and Toyota doors: 2\n",
      "Porshe seats: 4 and Porshe doors: 4\n"
     ]
    }
   ],
   "source": [
    "jeep= Car(4) \n",
    "kia=Car(2)\n",
    "kia.seats='cloth'\n",
    "print(jeep.seats)\n",
    "print(jeep.doors)\n",
    "print(kia.doors)\n",
    "print(kia.seats)\n",
    "\n",
    "\n",
    "class Car():\n",
    "    def __init__(self, doors, seats=4):\n",
    "        self.doors=doors\n",
    "        self.seats=seats\n",
    "toyota=Car(2, 2)\n",
    "porshe=Car(4)\n",
    "print(f'Toyota seats: {toyota.seats} and Toyota doors: {toyota.doors}')\n",
    "print(f'Porshe seats: {porshe.seats} and Porshe doors: {porshe.doors}')"
   ]
  },
  {
   "cell_type": "markdown",
   "metadata": {},
   "source": [
    "## Class Methods <br>\n",
    "<p>While inside of a class, functions are referred to as 'methods'. If you hear someone mention methods, they're speaking about classes. Methods are essentially functions, but only callable on the instances of a class.</p>"
   ]
  },
  {
   "cell_type": "markdown",
   "metadata": {},
   "source": [
    "##### Creating"
   ]
  },
  {
   "cell_type": "code",
   "execution_count": 1,
   "metadata": {},
   "outputs": [],
   "source": [
    "class ShoppingBag():\n",
    "    \"\"\" The ShoppingBag class will have handles, capacity, and items to place inside\n",
    "    Attributes for the class:\n",
    "    handles:expected to be an integer\n",
    "    capactiy:expected to be a strign or an integar\n",
    "    items: expected to be a list\"\"\"\n",
    "    def __init__(self, handles, capacity, items):\n",
    "        self.handles=handles\n",
    "        self.capacity = capacity\n",
    "        self.items=items\n",
    "    #write a method that shows the items in the shopping bag item list\n",
    "    def showShoppingBag(self):\n",
    "        print('You have items in your bag!')\n",
    "        for item in self.items:\n",
    "            print(item)\n",
    "    #show the capacity of ShoppingBag and how much room is left\n",
    "    def showCapacity(self):\n",
    "        print(f'Your capacity is: {self.capacity}')\n",
    "    #add items to the items list for the ShoppingBag\n",
    "    def addToShoppingBag(self):\n",
    "        products=input('What would you like to add?')\n",
    "        self.items.append(products)\n",
    "    #change the capacity of the shopping bag\n",
    "    def changeBagCapacity(self, capacity):\n",
    "        self.capacity = capacity\n",
    "    #increase the capacity of the ShoppingBag by a default amout that we set to 10\n",
    "    def increaseCapacity(self, changed_capacity = 10):\n",
    "        if self.capacity == isinstance(self.capacity, str):\n",
    "            print(\"We can't add that here\")\n",
    "        else:\n",
    "            self.capacity+= changed_capacity\n",
    "    \n",
    "    "
   ]
  },
  {
   "cell_type": "markdown",
   "metadata": {},
   "source": [
    "##### Calling"
   ]
  },
  {
   "cell_type": "code",
   "execution_count": 2,
   "metadata": {},
   "outputs": [
    {
     "name": "stdout",
     "output_type": "stream",
     "text": [
      "What do you want to do? add/show/quit quit\n",
      "You have items in your bag!\n",
      "Thanks for Shopping!\n"
     ]
    }
   ],
   "source": [
    "# See Above\n",
    "#so far we created the idea of hte shoppingbag now we will make it real\n",
    "wholeFoods_bag=ShoppingBag(2, 10, [])\n",
    "#create a function to run the ShoppingBag method on our wholeFoods_bag instance\n",
    "def run():\n",
    "    while True:\n",
    "        response= input('What do you want to do? add/show/quit ')\n",
    "        if response.lower() == 'quit':\n",
    "            wholeFoods_bag.showShoppingBag()\n",
    "            print('Thanks for Shopping!')\n",
    "            break\n",
    "        elif response.lower() == 'add':\n",
    "            wholeFoods_bag.addToShoppingBag()\n",
    "        elif response.lower() == 'show':\n",
    "            wholeFoods_bag.showShoppingBag()\n",
    "        else:\n",
    "            print('Try another command')\n",
    "run()"
   ]
  },
  {
   "cell_type": "markdown",
   "metadata": {},
   "source": [
    "##### Modifying an Attribute's Value Through a Method"
   ]
  },
  {
   "cell_type": "code",
   "execution_count": 3,
   "metadata": {},
   "outputs": [
    {
     "name": "stdout",
     "output_type": "stream",
     "text": [
      "Your capacity is: 10\n",
      "Capacity After the change...\n",
      "Your capacity is: 40\n"
     ]
    }
   ],
   "source": [
    "#show the capacity\n",
    "wholeFoods_bag.showCapacity()\n",
    "print('Capacity After the change...')\n",
    "wholeFoods_bag.changeBagCapacity(40)\n",
    "wholeFoods_bag.showCapacity()"
   ]
  },
  {
   "cell_type": "markdown",
   "metadata": {},
   "source": [
    "##### Incrementing an Attribute's Value Through a Method"
   ]
  },
  {
   "cell_type": "code",
   "execution_count": 4,
   "metadata": {},
   "outputs": [
    {
     "name": "stdout",
     "output_type": "stream",
     "text": [
      "Your capacity is: 40\n",
      "After increase:\n",
      "Your capacity is: 50\n"
     ]
    }
   ],
   "source": [
    "wholeFoods_bag.showCapacity()\n",
    "print('After increase:')\n",
    "wholeFoods_bag.increaseCapacity()\n",
    "wholeFoods_bag.showCapacity()"
   ]
  },
  {
   "cell_type": "markdown",
   "metadata": {},
   "source": [
    "##### In-Class Exercise #3 - Add a method that takes in three parameters of year, doors and seats and prints out a formatted print statement with make, model, year, seats, and doors"
   ]
  },
  {
   "cell_type": "code",
   "execution_count": 19,
   "metadata": {},
   "outputs": [
    {
     "name": "stdout",
     "output_type": "stream",
     "text": [
      "This car is from 2019 and is a Ford Expolorer and has 4 doors and 5 seats.\n"
     ]
    }
   ],
   "source": [
    "# Create class with 2 paramters inside of the __init__ which are make and model\n",
    "# Inside of the Car class create a method that has 4 parameter in total (self,year,door,seats)\n",
    "# Output: This car is from 2019 and is a Ford Expolorer and has 4 doors and 5 seats\n",
    "class Cars():\n",
    "    make=\"Ford\"\n",
    "    model='Expolorer'\n",
    "    year=2019\n",
    "    doors=4\n",
    "    seats=5\n",
    "ford=Cars()\n",
    "#     def __init__(self, make, model):\n",
    "#         self.make=make\n",
    "#         self.model=model\n",
    "def __init__(self, year, doors, seats):\n",
    "    \n",
    "        ford=Cars(2019, 4, 5)\n",
    "print(f'This car is from {ford.year} and is a {ford.make} {ford.model} and has {ford.doors} doors and {ford.seats} seats.')\n",
    "        \n"
   ]
  },
  {
   "cell_type": "markdown",
   "metadata": {},
   "source": [
    "## Inheritance <br>\n",
    "<p>You can create a child-parent relationship between two classes by using inheritance. What this allows you to do is have overriding methods, but also inherit traits from the parent class. Think of it as an actual parent and child, the child will inherit the parent's genes, as will the classes in OOP</p>"
   ]
  },
  {
   "cell_type": "markdown",
   "metadata": {},
   "source": [
    "##### Syntax for Inheriting from a Parent Class"
   ]
  },
  {
   "cell_type": "code",
   "execution_count": 24,
   "metadata": {},
   "outputs": [
    {
     "name": "stdout",
     "output_type": "stream",
     "text": [
      "Bark\n",
      "Make some generic sound\n",
      "None\n",
      "9.8\n"
     ]
    }
   ],
   "source": [
    "#create a parent class and call it animal\n",
    "class Animal():\n",
    "    accelerations=9.8\n",
    "    def __init__(self, name, species, legs=4):\n",
    "        self.name=name\n",
    "        self.species=species\n",
    "        self.legs=legs\n",
    "    #generic parent method -this is not overriding anything\n",
    "    def makeSound(self):\n",
    "        print('Make some generic sound')\n",
    "#now we are making out child class...Dog\n",
    "class Dog(Animal):\n",
    "    speed=15\n",
    "    def printInfo(self):\n",
    "        print(f'The Dog has {self.speed} mph in speed and {self.accelerations}')\n",
    "#create a grand class Mutt\n",
    "class Mutt(Dog):\n",
    "    color='tan'\n",
    "    \n",
    "    #override the Anime class-using the Dog class to override the __init__ from Animal\n",
    "    def __init__(self, name, species, eye_color, legs=4):\n",
    "        Dog.__init__(self, name, species, legs)\n",
    "        self.eye_color= eye_color\n",
    "    #override the makeSound method (which is coming from Animal)\n",
    "    def makeSound(self):\n",
    "        noise='Bark'\n",
    "        return noise\n",
    "    \n",
    "lassie= Dog('Lassie', 'Dog')\n",
    "basic_animal=Animal('Generic Animal Name', 'Generic Animal Species')\n",
    "buster=Mutt('Buster','Mutt','Brown')\n",
    "print(buster.makeSound())\n",
    "print(lassie.makeSound())\n",
    "print(buster.accelerations)\n"
   ]
  },
  {
   "cell_type": "markdown",
   "metadata": {},
   "source": [
    "##### The \\__init\\__() Method for a Child Class - super()"
   ]
  },
  {
   "cell_type": "code",
   "execution_count": 25,
   "metadata": {
    "scrolled": true
   },
   "outputs": [
    {
     "name": "stdout",
     "output_type": "stream",
     "text": [
      "Bark\n",
      "Make some generic sound\n",
      "None\n",
      "9.8\n"
     ]
    }
   ],
   "source": [
    "class Puppy(Dog):\n",
    "    color='black and brown'\n",
    "    #override the Animal class __init__ via Dog class\n",
    "    def __init__(self, name, species, eye_color, legs=4):\n",
    "        super().__init__(name, species,legs)\n",
    "        self.eye_color=eye_color\n",
    "    #override the maksSound method\n",
    "    def makeSound(self):\n",
    "        noise='Bark'\n",
    "        return noise\n",
    "lassie= Dog('Lassie', 'Dog')\n",
    "basic_animal=Animal('Generic Animal Name', 'Generic Animal Species')\n",
    "buster=Mutt('Buster','Mutt','Brown')\n",
    "print(buster.makeSound())\n",
    "print(lassie.makeSound())\n",
    "print(buster.accelerations)    \n",
    "    "
   ]
  },
  {
   "cell_type": "markdown",
   "metadata": {},
   "source": [
    "##### Defining Attributes and Methods for the Child Class"
   ]
  },
  {
   "cell_type": "code",
   "execution_count": null,
   "metadata": {},
   "outputs": [],
   "source": [
    "# See Above"
   ]
  },
  {
   "cell_type": "markdown",
   "metadata": {},
   "source": [
    "##### Method Overriding"
   ]
  },
  {
   "cell_type": "code",
   "execution_count": null,
   "metadata": {},
   "outputs": [],
   "source": [
    "# See Above"
   ]
  },
  {
   "cell_type": "markdown",
   "metadata": {},
   "source": [
    "## Classes as Attributes <br>\n",
    "<p>Classes can also be used as attributes within another class. This is useful in situations where you need to keep variables locally stored, instead of globally stored.</p>"
   ]
  },
  {
   "cell_type": "code",
   "execution_count": 36,
   "metadata": {},
   "outputs": [
    {
     "ename": "TypeError",
     "evalue": "Battery() takes no arguments",
     "output_type": "error",
     "traceback": [
      "\u001b[1;31m---------------------------------------------------------------------------\u001b[0m",
      "\u001b[1;31mTypeError\u001b[0m                                 Traceback (most recent call last)",
      "\u001b[1;32m~\\AppData\\Local\\Temp\\ipykernel_11532\\949079329.py\u001b[0m in \u001b[0;36m<module>\u001b[1;34m\u001b[0m\n\u001b[0;32m     13\u001b[0m         \u001b[1;32mreturn\u001b[0m \u001b[1;34mf'{self.year} {self.make} {self.model} {self.battery.cells}'\u001b[0m\u001b[1;33m\u001b[0m\u001b[1;33m\u001b[0m\u001b[0m\n\u001b[0;32m     14\u001b[0m \u001b[1;33m\u001b[0m\u001b[0m\n\u001b[1;32m---> 15\u001b[1;33m \u001b[0mmy_battery\u001b[0m \u001b[1;33m=\u001b[0m \u001b[0mBattery\u001b[0m\u001b[1;33m(\u001b[0m\u001b[1;36m20\u001b[0m\u001b[1;33m)\u001b[0m\u001b[1;33m\u001b[0m\u001b[1;33m\u001b[0m\u001b[0m\n\u001b[0m\u001b[0;32m     16\u001b[0m \u001b[1;33m\u001b[0m\u001b[0m\n\u001b[0;32m     17\u001b[0m \u001b[0mtesla\u001b[0m\u001b[1;33m=\u001b[0m\u001b[0mCar\u001b[0m\u001b[1;33m(\u001b[0m\u001b[1;36m2019\u001b[0m\u001b[1;33m,\u001b[0m \u001b[1;34m'Tesla'\u001b[0m\u001b[1;33m,\u001b[0m\u001b[1;34m'Model X'\u001b[0m\u001b[1;33m,\u001b[0m \u001b[0mmy_battery\u001b[0m\u001b[1;33m)\u001b[0m\u001b[1;33m\u001b[0m\u001b[1;33m\u001b[0m\u001b[0m\n",
      "\u001b[1;31mTypeError\u001b[0m: Battery() takes no arguments"
     ]
    }
   ],
   "source": [
    "class Battery():\n",
    "    volts=7.8\n",
    "    def __inti__(self, cells):\n",
    "        self.cells=cells\n",
    "class Car():\n",
    "    def __init__(self, year, make, model, battery):\n",
    "        self.year=year\n",
    "        self.make=make\n",
    "        self.model=model\n",
    "        self.battery= battery\n",
    "        \n",
    "    def printInfo(self):\n",
    "        return f'{self.year} {self.make} {self.model} {self.battery.cells}'\n",
    "        \n",
    "my_battery = Battery(20)\n",
    "\n",
    "tesla=Car(2019, 'Tesla','Model X', my_battery)\n",
    "\n",
    "print(tesla.battery.cells)\n",
    "tesla.printInfo()"
   ]
  },
  {
   "cell_type": "markdown",
   "metadata": {},
   "source": [
    "# Exercises"
   ]
  },
  {
   "cell_type": "markdown",
   "metadata": {},
   "source": [
    "### Exercise 1 - Turn the shopping cart program from yesterday into an object-oriented program\n",
    "\n",
    "The comments in the cell below are there as a guide for thinking about the problem. However, if you feel a different way is best for you and your own thought process, please do what feels best for you by all means."
   ]
  },
  {
   "cell_type": "code",
   "execution_count": 24,
   "metadata": {},
   "outputs": [
    {
     "name": "stdout",
     "output_type": "stream",
     "text": [
      "What do you want to do? add/show/remove/quit add\n",
      "What would you like to add?apple\n",
      "What do you want to do? add/show/remove/quit apple\n",
      "Try another command\n",
      "What do you want to do? add/show/remove/quit add\n",
      "What would you like to add?cheese\n",
      "What do you want to do? add/show/remove/quit quit\n",
      "Are you ready to checkout? yes\n",
      "You have items in your bag!\n",
      "apple\n",
      "cheese\n",
      "\n",
      "Thank you, please come again!\n"
     ]
    }
   ],
   "source": [
    "# cart = []         #holds the cart items\n",
    "# while True:\n",
    "    \n",
    "#     print(\"Shopping Cart Options\\n\")\n",
    "#     print (\"1. Add items\")\n",
    "#     print (\"2. Remove Items\")\n",
    "#     print (\"3. Show\")\n",
    "#     print (\"4. Quit\")\n",
    "#     option = input(\"> \")\n",
    "#     if option == '1':\n",
    "#         item=input('What would you like to add into your cart?')\n",
    "#         cart.append(item)\n",
    "#     if option == '2':\n",
    "#         if len(cart) == 0:\n",
    "#             print(\"\\nYour shopping cart is empty.\\n\")         \n",
    "#         else:\n",
    "#             print(cart)\n",
    "#             item=input('What would you like to remove from your cart?')\n",
    "#         cart.remove(item)\n",
    "#     if option == '3':\n",
    "#         if len(cart) == 0:\n",
    "#                 print(\"\\nYour shopping cart is empty.\\n\") \n",
    "#         else:\n",
    "#             print(f'Here is everything in your cart! {cart}')          \n",
    "#     if option == '4':\n",
    "#             print(f'Here is everything in your cart! {cart}')\n",
    "#             check=input('Are you ready to checkout? ')\n",
    "#             if check == \"yes\":\n",
    "#                 print(\"\\nThank you, please come again!\")\n",
    "#                 break\n",
    "\n",
    "class ShoppingCart():\n",
    "\n",
    "    def __init__(self, items):\n",
    "        self.items=items\n",
    "    def showShoppingCart(self):\n",
    "        print('You have items in your bag!')\n",
    "        for item in self.items:\n",
    "            print(item)\n",
    "    def addToShoppingCart(self):\n",
    "        products=input('What would you like to add?')\n",
    "        self.items.append(products)\n",
    "    def removeFromShoppingCart(self):\n",
    "        products=input('What would you like to remove?')\n",
    "        self.items.remove(products)\n",
    "        \n",
    "cart=ShoppingCart([])\n",
    "#create a function to run the ShoppingBag method on our wholeFoods_bag instance\n",
    "def run():\n",
    "    while True:\n",
    "        response= input('What do you want to do? add/show/remove/quit ')\n",
    "        if response.lower() == 'quit':\n",
    "            check=input('Are you ready to checkout? ')\n",
    "            if check == \"yes\":\n",
    "                cart.showShoppingCart()\n",
    "                print(\"\\nThank you, please come again!\")\n",
    "            break\n",
    "        elif response.lower() == 'add':\n",
    "            cart.addToShoppingCart()\n",
    "        elif response.lower() == 'show':\n",
    "            cart.showShoppingCart()\n",
    "        elif response.lower()== 'remove':\n",
    "            cart.removeFromShoppingCart()\n",
    "        else:\n",
    "            print('Try another command')\n",
    "run()"
   ]
  },
  {
   "cell_type": "markdown",
   "metadata": {},
   "source": [
    "### Exercise 2 - Write a Python class which has two methods get_String and print_String. get_String accept a string from the user and print_String print the string in upper case"
   ]
  },
  {
   "cell_type": "code",
   "execution_count": 10,
   "metadata": {},
   "outputs": [
    {
     "name": "stdout",
     "output_type": "stream",
     "text": [
      "hello there\n",
      "HELLO THERE\n"
     ]
    }
   ],
   "source": [
    "class String():\n",
    "    def __init__(self):\n",
    "        self.string = \"\"\n",
    "\n",
    "    def get_String(self):\n",
    "        self.string = input()\n",
    "\n",
    "    def print_String(self):\n",
    "        print(self.string.upper())\n",
    "\n",
    "string = String()\n",
    "string.get_String()\n",
    "string.print_String()"
   ]
  },
  {
   "cell_type": "code",
   "execution_count": null,
   "metadata": {},
   "outputs": [],
   "source": []
  }
 ],
 "metadata": {
  "kernelspec": {
   "display_name": "Python 3 (ipykernel)",
   "language": "python",
   "name": "python3"
  },
  "language_info": {
   "codemirror_mode": {
    "name": "ipython",
    "version": 3
   },
   "file_extension": ".py",
   "mimetype": "text/x-python",
   "name": "python",
   "nbconvert_exporter": "python",
   "pygments_lexer": "ipython3",
   "version": "3.9.13"
  }
 },
 "nbformat": 4,
 "nbformat_minor": 2
}
